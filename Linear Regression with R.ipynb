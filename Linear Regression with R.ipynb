{
 "cells": [
  {
   "cell_type": "markdown",
   "metadata": {},
   "source": [
    "# Library "
   ]
  },
  {
   "cell_type": "code",
   "execution_count": 1,
   "metadata": {},
   "outputs": [
    {
     "name": "stderr",
     "output_type": "stream",
     "text": [
      "Registered S3 methods overwritten by 'ggplot2':\n",
      "  method         from \n",
      "  [.quosures     rlang\n",
      "  c.quosures     rlang\n",
      "  print.quosures rlang\n"
     ]
    }
   ],
   "source": [
    "library(ggplot2)"
   ]
  },
  {
   "cell_type": "markdown",
   "metadata": {},
   "source": [
    "# Load The Dataset"
   ]
  },
  {
   "cell_type": "code",
   "execution_count": 2,
   "metadata": {},
   "outputs": [],
   "source": [
    "df = read.csv(\"score_prediction.csv\", header = TRUE)"
   ]
  },
  {
   "cell_type": "code",
   "execution_count": 3,
   "metadata": {},
   "outputs": [
    {
     "data": {
      "text/html": [
       "<table>\n",
       "<thead><tr><th scope=col>Hours</th><th scope=col>Scores</th></tr></thead>\n",
       "<tbody>\n",
       "\t<tr><td>2.5</td><td>21 </td></tr>\n",
       "\t<tr><td>5.1</td><td>47 </td></tr>\n",
       "\t<tr><td>3.2</td><td>27 </td></tr>\n",
       "\t<tr><td>8.5</td><td>75 </td></tr>\n",
       "\t<tr><td>3.5</td><td>30 </td></tr>\n",
       "\t<tr><td>1.5</td><td>20 </td></tr>\n",
       "\t<tr><td>9.2</td><td>88 </td></tr>\n",
       "\t<tr><td>5.5</td><td>60 </td></tr>\n",
       "\t<tr><td>8.3</td><td>81 </td></tr>\n",
       "\t<tr><td>2.7</td><td>25 </td></tr>\n",
       "\t<tr><td>7.7</td><td>85 </td></tr>\n",
       "\t<tr><td>5.9</td><td>62 </td></tr>\n",
       "\t<tr><td>4.5</td><td>41 </td></tr>\n",
       "\t<tr><td>3.3</td><td>42 </td></tr>\n",
       "\t<tr><td>1.1</td><td>17 </td></tr>\n",
       "\t<tr><td>8.9</td><td>95 </td></tr>\n",
       "\t<tr><td>2.5</td><td>30 </td></tr>\n",
       "\t<tr><td>1.9</td><td>24 </td></tr>\n",
       "\t<tr><td>6.1</td><td>67 </td></tr>\n",
       "\t<tr><td>7.4</td><td>69 </td></tr>\n",
       "\t<tr><td>2.7</td><td>30 </td></tr>\n",
       "\t<tr><td>4.8</td><td>54 </td></tr>\n",
       "\t<tr><td>3.8</td><td>35 </td></tr>\n",
       "\t<tr><td>6.9</td><td>76 </td></tr>\n",
       "\t<tr><td>7.8</td><td>86 </td></tr>\n",
       "</tbody>\n",
       "</table>\n"
      ],
      "text/latex": [
       "\\begin{tabular}{r|ll}\n",
       " Hours & Scores\\\\\n",
       "\\hline\n",
       "\t 2.5 & 21 \\\\\n",
       "\t 5.1 & 47 \\\\\n",
       "\t 3.2 & 27 \\\\\n",
       "\t 8.5 & 75 \\\\\n",
       "\t 3.5 & 30 \\\\\n",
       "\t 1.5 & 20 \\\\\n",
       "\t 9.2 & 88 \\\\\n",
       "\t 5.5 & 60 \\\\\n",
       "\t 8.3 & 81 \\\\\n",
       "\t 2.7 & 25 \\\\\n",
       "\t 7.7 & 85 \\\\\n",
       "\t 5.9 & 62 \\\\\n",
       "\t 4.5 & 41 \\\\\n",
       "\t 3.3 & 42 \\\\\n",
       "\t 1.1 & 17 \\\\\n",
       "\t 8.9 & 95 \\\\\n",
       "\t 2.5 & 30 \\\\\n",
       "\t 1.9 & 24 \\\\\n",
       "\t 6.1 & 67 \\\\\n",
       "\t 7.4 & 69 \\\\\n",
       "\t 2.7 & 30 \\\\\n",
       "\t 4.8 & 54 \\\\\n",
       "\t 3.8 & 35 \\\\\n",
       "\t 6.9 & 76 \\\\\n",
       "\t 7.8 & 86 \\\\\n",
       "\\end{tabular}\n"
      ],
      "text/markdown": [
       "\n",
       "| Hours | Scores |\n",
       "|---|---|\n",
       "| 2.5 | 21  |\n",
       "| 5.1 | 47  |\n",
       "| 3.2 | 27  |\n",
       "| 8.5 | 75  |\n",
       "| 3.5 | 30  |\n",
       "| 1.5 | 20  |\n",
       "| 9.2 | 88  |\n",
       "| 5.5 | 60  |\n",
       "| 8.3 | 81  |\n",
       "| 2.7 | 25  |\n",
       "| 7.7 | 85  |\n",
       "| 5.9 | 62  |\n",
       "| 4.5 | 41  |\n",
       "| 3.3 | 42  |\n",
       "| 1.1 | 17  |\n",
       "| 8.9 | 95  |\n",
       "| 2.5 | 30  |\n",
       "| 1.9 | 24  |\n",
       "| 6.1 | 67  |\n",
       "| 7.4 | 69  |\n",
       "| 2.7 | 30  |\n",
       "| 4.8 | 54  |\n",
       "| 3.8 | 35  |\n",
       "| 6.9 | 76  |\n",
       "| 7.8 | 86  |\n",
       "\n"
      ],
      "text/plain": [
       "   Hours Scores\n",
       "1  2.5   21    \n",
       "2  5.1   47    \n",
       "3  3.2   27    \n",
       "4  8.5   75    \n",
       "5  3.5   30    \n",
       "6  1.5   20    \n",
       "7  9.2   88    \n",
       "8  5.5   60    \n",
       "9  8.3   81    \n",
       "10 2.7   25    \n",
       "11 7.7   85    \n",
       "12 5.9   62    \n",
       "13 4.5   41    \n",
       "14 3.3   42    \n",
       "15 1.1   17    \n",
       "16 8.9   95    \n",
       "17 2.5   30    \n",
       "18 1.9   24    \n",
       "19 6.1   67    \n",
       "20 7.4   69    \n",
       "21 2.7   30    \n",
       "22 4.8   54    \n",
       "23 3.8   35    \n",
       "24 6.9   76    \n",
       "25 7.8   86    "
      ]
     },
     "metadata": {},
     "output_type": "display_data"
    }
   ],
   "source": [
    "df"
   ]
  },
  {
   "cell_type": "code",
   "execution_count": 4,
   "metadata": {},
   "outputs": [
    {
     "name": "stdout",
     "output_type": "stream",
     "text": [
      "'data.frame':\t25 obs. of  2 variables:\n",
      " $ Hours : num  2.5 5.1 3.2 8.5 3.5 1.5 9.2 5.5 8.3 2.7 ...\n",
      " $ Scores: int  21 47 27 75 30 20 88 60 81 25 ...\n"
     ]
    }
   ],
   "source": [
    "str(df)"
   ]
  },
  {
   "cell_type": "code",
   "execution_count": 5,
   "metadata": {},
   "outputs": [
    {
     "data": {
      "text/plain": [
       "     Hours           Scores     \n",
       " Min.   :1.100   Min.   :17.00  \n",
       " 1st Qu.:2.700   1st Qu.:30.00  \n",
       " Median :4.800   Median :47.00  \n",
       " Mean   :5.012   Mean   :51.48  \n",
       " 3rd Qu.:7.400   3rd Qu.:75.00  \n",
       " Max.   :9.200   Max.   :95.00  "
      ]
     },
     "metadata": {},
     "output_type": "display_data"
    }
   ],
   "source": [
    "summary(df)"
   ]
  },
  {
   "cell_type": "markdown",
   "metadata": {},
   "source": [
    "# Data Visualization"
   ]
  },
  {
   "cell_type": "code",
   "execution_count": 6,
   "metadata": {},
   "outputs": [
    {
     "data": {
      "image/png": "[encoded data removed]",
      "text/plain": [
       "Plot with title \"Histogram of df$Hours\""
      ]
     },
     "metadata": {},
     "output_type": "display_data"
    }
   ],
   "source": [
    "hist(df$Hours, col = 'red')"
   ]
  },
  {
   "cell_type": "code",
   "execution_count": 7,
   "metadata": {},
   "outputs": [
    {
     "data": {
      "image/png": "[encoded data removed]",
      "text/plain": [
       "plot without title"
      ]
     },
     "metadata": {},
     "output_type": "display_data"
    }
   ],
   "source": [
    "pairs(Scores ~ Hours, data = df)"
   ]
  },
  {
   "cell_type": "code",
   "execution_count": 8,
   "metadata": {},
   "outputs": [
    {
     "data": {
      "image/png": "[encoded data removed]",
      "text/plain": [
       "plot without title"
      ]
     },
     "metadata": {},
     "output_type": "display_data"
    }
   ],
   "source": [
    "plot(Scores ~ Hours, data = df)"
   ]
  },
  {
   "cell_type": "markdown",
   "metadata": {},
   "source": [
    "# Linear Regression"
   ]
  },
  {
   "cell_type": "code",
   "execution_count": 9,
   "metadata": {},
   "outputs": [],
   "source": [
    "lm_model = lm(Scores ~ Hours, data = df)"
   ]
  },
  {
   "cell_type": "code",
   "execution_count": 10,
   "metadata": {},
   "outputs": [
    {
     "data": {
      "text/plain": [
       "\n",
       "Call:\n",
       "lm(formula = Scores ~ Hours, data = df)\n",
       "\n",
       "Residuals:\n",
       "    Min      1Q  Median      3Q     Max \n",
       "-10.578  -5.340   1.839   4.593   7.265 \n",
       "\n",
       "Coefficients:\n",
       "            Estimate Std. Error t value Pr(>|t|)    \n",
       "(Intercept)   2.4837     2.5317   0.981    0.337    \n",
       "Hours         9.7758     0.4529  21.583   <2e-16 ***\n",
       "---\n",
       "Signif. codes:  0 '***' 0.001 '**' 0.01 '*' 0.05 '.' 0.1 ' ' 1\n",
       "\n",
       "Residual standard error: 5.603 on 23 degrees of freedom\n",
       "Multiple R-squared:  0.9529,\tAdjusted R-squared:  0.9509 \n",
       "F-statistic: 465.8 on 1 and 23 DF,  p-value: < 2.2e-16\n"
      ]
     },
     "metadata": {},
     "output_type": "display_data"
    }
   ],
   "source": [
    "summary(lm_model)"
   ]
  },
  {
   "cell_type": "code",
   "execution_count": 11,
   "metadata": {},
   "outputs": [],
   "source": [
    "scores.graph = ggplot(df, aes(x=Hours, y=Scores))+geom_point()"
   ]
  },
  {
   "cell_type": "code",
   "execution_count": 12,
   "metadata": {},
   "outputs": [
    {
     "data": {
      "image/png": "[encoded data removed]",
      "text/plain": [
       "plot without title"
      ]
     },
     "metadata": {},
     "output_type": "display_data"
    }
   ],
   "source": [
    "scores.graph"
   ]
  },
  {
   "cell_type": "code",
   "execution_count": 13,
   "metadata": {},
   "outputs": [],
   "source": [
    "scores.graph = scores.graph + geom_smooth(method=\"lm\", col=\"black\")"
   ]
  },
  {
   "cell_type": "code",
   "execution_count": 14,
   "metadata": {},
   "outputs": [
    {
     "data": {
      "image/png": "[encoded data removed]",
      "text/plain": [
       "plot without title"
      ]
     },
     "metadata": {},
     "output_type": "display_data"
    }
   ],
   "source": [
    "scores.graph"
   ]
  },
  {
   "cell_type": "markdown",
   "metadata": {},
   "source": [
    "# Making Prediction for 9.25"
   ]
  },
  {
   "cell_type": "code",
   "execution_count": 15,
   "metadata": {},
   "outputs": [],
   "source": [
    "pred = data.frame(Hours = 9.25)"
   ]
  },
  {
   "cell_type": "code",
   "execution_count": 16,
   "metadata": {},
   "outputs": [
    {
     "data": {
      "text/html": [
       "<strong>1:</strong> 92.9098547701573"
      ],
      "text/latex": [
       "\\textbf{1:} 92.9098547701573"
      ],
      "text/markdown": [
       "**1:** 92.9098547701573"
      ],
      "text/plain": [
       "       1 \n",
       "92.90985 "
      ]
     },
     "metadata": {},
     "output_type": "display_data"
    }
   ],
   "source": [
    "predict(lm_model,pred)"
   ]
  },
  {
   "cell_type": "code",
   "execution_count": null,
   "metadata": {},
   "outputs": [],
   "source": []
  }
 ],
 "metadata": {
  "kernelspec": {
   "display_name": "R",
   "language": "R",
   "name": "ir"
  },
  "language_info": {
   "codemirror_mode": "r",
   "file_extension": ".r",
   "mimetype": "text/x-r-source",
   "name": "R",
   "pygments_lexer": "r",
   "version": "3.6.1"
  }
 },
 "nbformat": 4,
 "nbformat_minor": 4
}
